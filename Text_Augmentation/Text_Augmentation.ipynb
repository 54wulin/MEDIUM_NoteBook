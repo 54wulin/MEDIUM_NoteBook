{
 "cells": [
  {
   "cell_type": "code",
   "execution_count": 1,
   "metadata": {},
   "outputs": [],
   "source": [
    "import os\n",
    "import tqdm\n",
    "import string\n",
    "import random\n",
    "import numpy as np\n",
    "import pandas as pd\n",
    "from collections import *\n",
    "import matplotlib.pyplot as plt\n",
    "\n",
    "import tensorflow as tf\n",
    "from tensorflow.keras.layers import *\n",
    "from tensorflow.keras.models import *\n",
    "\n",
    "from nltk.corpus import stopwords\n",
    "from sklearn.linear_model import LogisticRegression\n",
    "from sklearn.ensemble import RandomForestClassifier\n",
    "from sklearn.model_selection import train_test_split\n",
    "from sklearn.feature_extraction.text import TfidfVectorizer\n",
    "from sklearn.metrics import recall_score, precision_score, roc_auc_score, f1_score"
   ]
  },
  {
   "cell_type": "code",
   "execution_count": 2,
   "metadata": {
    "scrolled": true
   },
   "outputs": [
    {
     "name": "stdout",
     "output_type": "stream",
     "text": [
      "(1344, 3)\n"
     ]
    },
    {
     "data": {
      "text/html": [
       "<div>\n",
       "<style scoped>\n",
       "    .dataframe tbody tr th:only-of-type {\n",
       "        vertical-align: middle;\n",
       "    }\n",
       "\n",
       "    .dataframe tbody tr th {\n",
       "        vertical-align: top;\n",
       "    }\n",
       "\n",
       "    .dataframe thead th {\n",
       "        text-align: right;\n",
       "    }\n",
       "</style>\n",
       "<table border=\"1\" class=\"dataframe\">\n",
       "  <thead>\n",
       "    <tr style=\"text-align: right;\">\n",
       "      <th></th>\n",
       "      <th>ride_review</th>\n",
       "      <th>ride_rating</th>\n",
       "      <th>sentiment</th>\n",
       "    </tr>\n",
       "  </thead>\n",
       "  <tbody>\n",
       "    <tr>\n",
       "      <td>0</td>\n",
       "      <td>I completed running New York Marathon requeste...</td>\n",
       "      <td>1.0</td>\n",
       "      <td>0</td>\n",
       "    </tr>\n",
       "    <tr>\n",
       "      <td>1</td>\n",
       "      <td>My appointment time auto repairs required earl...</td>\n",
       "      <td>1.0</td>\n",
       "      <td>0</td>\n",
       "    </tr>\n",
       "    <tr>\n",
       "      <td>2</td>\n",
       "      <td>Whether I using Uber ride service Uber Eats or...</td>\n",
       "      <td>1.0</td>\n",
       "      <td>0</td>\n",
       "    </tr>\n",
       "    <tr>\n",
       "      <td>3</td>\n",
       "      <td>Why hard understand I trying retrieve Uber cab...</td>\n",
       "      <td>1.0</td>\n",
       "      <td>0</td>\n",
       "    </tr>\n",
       "    <tr>\n",
       "      <td>4</td>\n",
       "      <td>I South Beach FL I staying major hotel ordered...</td>\n",
       "      <td>1.0</td>\n",
       "      <td>0</td>\n",
       "    </tr>\n",
       "  </tbody>\n",
       "</table>\n",
       "</div>"
      ],
      "text/plain": [
       "                                         ride_review  ride_rating  sentiment\n",
       "0  I completed running New York Marathon requeste...          1.0          0\n",
       "1  My appointment time auto repairs required earl...          1.0          0\n",
       "2  Whether I using Uber ride service Uber Eats or...          1.0          0\n",
       "3  Why hard understand I trying retrieve Uber cab...          1.0          0\n",
       "4  I South Beach FL I staying major hotel ordered...          1.0          0"
      ]
     },
     "execution_count": 2,
     "metadata": {},
     "output_type": "execute_result"
    }
   ],
   "source": [
    "### READ DATA ###\n",
    "\n",
    "df = pd.read_csv('Uber_Ride_Reviews.csv')\n",
    "\n",
    "print(df.shape)\n",
    "df.head()"
   ]
  },
  {
   "cell_type": "code",
   "execution_count": 3,
   "metadata": {},
   "outputs": [
    {
     "data": {
      "text/plain": [
       "<matplotlib.axes._subplots.AxesSubplot at 0x12ff49a48d0>"
      ]
     },
     "execution_count": 3,
     "metadata": {},
     "output_type": "execute_result"
    },
    {
     "data": {
      "image/png": "[encoded data removed]",
      "text/plain": [
       "<Figure size 1152x432 with 2 Axes>"
      ]
     },
     "metadata": {
      "needs_background": "light"
     },
     "output_type": "display_data"
    }
   ],
   "source": [
    "### LABEL DISTRIBUTION ###\n",
    "\n",
    "plt.figure(figsize=(16,6))\n",
    "\n",
    "plt.subplot(121)\n",
    "df.ride_rating.value_counts().sort_index().plot.bar(title='Ride Rating Distribution')\n",
    "\n",
    "plt.subplot(122)\n",
    "df.sentiment.value_counts().plot.pie(title='Sentiment Distribution')"
   ]
  },
  {
   "cell_type": "code",
   "execution_count": 4,
   "metadata": {},
   "outputs": [],
   "source": [
    "### REMOVE 3 STARS REVIEWS ###\n",
    "\n",
    "df = df.loc[df.ride_rating!=3, :].reset_index(drop=True)"
   ]
  },
  {
   "cell_type": "code",
   "execution_count": 5,
   "metadata": {},
   "outputs": [],
   "source": [
    "### CLEAN TEXT (NOT REQUIRED) ###\n",
    "\n",
    "df['text'] = df.ride_review.str.lower().str.replace(r'['+string.digits+string.punctuation+']', ' ')"
   ]
  },
  {
   "cell_type": "code",
   "execution_count": 6,
   "metadata": {},
   "outputs": [],
   "source": [
    "### TRAIN TEST SPLIT ###\n",
    "\n",
    "X_train, X_test, y_train, y_test = train_test_split(df['text'].values, df['sentiment'].values, \n",
    "                                                    random_state = 42, test_size=0.2)"
   ]
  },
  {
   "cell_type": "code",
   "execution_count": 7,
   "metadata": {},
   "outputs": [
    {
     "data": {
      "text/plain": [
       "TfidfVectorizer(min_df=3,\n",
       "                stop_words={'a', 'about', 'above', 'after', 'again', 'against',\n",
       "                            'ain', 'all', 'am', 'an', 'and', 'any', 'are',\n",
       "                            'aren', \"aren't\", 'as', 'at', 'be', 'because',\n",
       "                            'been', 'before', 'being', 'below', 'between',\n",
       "                            'both', 'but', 'by', 'can', 'couldn', \"couldn't\", ...})"
      ]
     },
     "execution_count": 7,
     "metadata": {},
     "output_type": "execute_result"
    }
   ],
   "source": [
    "### CREATE FEATURES WITH TFIDF ###\n",
    "\n",
    "stop = set(stopwords.words('english'))\n",
    "tfidf = TfidfVectorizer(min_df=3, stop_words=stop)\n",
    "tfidf.fit(X_train)"
   ]
  },
  {
   "cell_type": "code",
   "execution_count": 8,
   "metadata": {},
   "outputs": [],
   "source": [
    "### REVIEWS LENGTH DISTRIBUTION ON TRAIN ###\n",
    "\n",
    "c = Counter([len(s.split()) for s in X_train])\n",
    "lenghts = np.asarray(list(c.keys()))\n",
    "freq = np.asarray(list(c.values()))\n",
    "freq = freq/freq.sum()"
   ]
  },
  {
   "cell_type": "code",
   "execution_count": 9,
   "metadata": {},
   "outputs": [
    {
     "data": {
      "image/png": "[encoded data removed]",
      "text/plain": [
       "<Figure size 648x432 with 1 Axes>"
      ]
     },
     "metadata": {
      "needs_background": "light"
     },
     "output_type": "display_data"
    }
   ],
   "source": [
    "### PLOT REVIEWS LENGTH DISTRIBUTION ON TRAIN ###\n",
    "\n",
    "plt.figure(figsize=(9,6))\n",
    "plt.hist(lenghts, bins=20)\n",
    "np.set_printoptions(False)"
   ]
  },
  {
   "cell_type": "code",
   "execution_count": 10,
   "metadata": {},
   "outputs": [],
   "source": [
    "### DEFINE MARKOV CHAIN GENERATOR ###\n",
    "\n",
    "def build_chain(texts):\n",
    "    \n",
    "    index = 1\n",
    "    chain = {}\n",
    "    \n",
    "    for text in texts:\n",
    "        \n",
    "        text = text.split()\n",
    "        for word in text[index:]:\n",
    "            key = text[index-1]\n",
    "            if key in chain:\n",
    "                chain[key].append(word)\n",
    "            else:\n",
    "                chain[key] = [word]\n",
    "            index += 1\n",
    "        \n",
    "        index = 1\n",
    "    \n",
    "    return chain\n",
    "\n",
    "def create_sentence(chain, lenght, seed):\n",
    "    \n",
    "    np.random.seed(seed)\n",
    "    \n",
    "    start = random.choice(list(chain.keys()))\n",
    "    text = [start]\n",
    "\n",
    "    while len(text) < lenght:\n",
    "        try:\n",
    "            after = random.choice(chain[start])\n",
    "            start = after\n",
    "            text.append(after)\n",
    "        except: #end of the sentence\n",
    "            #text.append('.')\n",
    "            start = random.choice(list(chain.keys()))\n",
    "    \n",
    "    return ' '.join(text)\n",
    "\n",
    "def Generator(x_train, y_train, rep, concat=False, seed=33):\n",
    "    \n",
    "    np.random.seed(seed)\n",
    "    \n",
    "    new_corpus, new_labels = [], []\n",
    "    \n",
    "    for i,lab in enumerate(np.unique(y_train)):\n",
    "\n",
    "        selected = x_train[y_train == lab]\n",
    "        chain = build_chain(selected)\n",
    "\n",
    "        sentences = []\n",
    "        for i in range(rep):\n",
    "            lenght = int(np.random.choice(lenghts, 1, p=freq))\n",
    "            sentences.append(create_sentence(chain, lenght, seed))\n",
    "\n",
    "        new_corpus.extend(sentences)\n",
    "        new_labels.extend([lab]*rep)\n",
    "    \n",
    "    if concat:\n",
    "        return np.asarray(list(x_train) + new_corpus), np.asarray(list(y_train) + new_labels)\n",
    "    \n",
    "    return np.asarray(new_corpus), np.asarray(new_labels)"
   ]
  },
  {
   "cell_type": "code",
   "execution_count": 11,
   "metadata": {},
   "outputs": [],
   "source": [
    "### AUGMENT TRAIN DATA ###\n",
    "\n",
    "X_train_new, y_train_new = Generator(X_train, y_train, rep=300, concat=True, seed=33)"
   ]
  },
  {
   "cell_type": "code",
   "execution_count": 12,
   "metadata": {},
   "outputs": [
    {
     "data": {
      "text/plain": [
       "0    1195\n",
       "1     440\n",
       "dtype: int64"
      ]
     },
     "execution_count": 12,
     "metadata": {},
     "output_type": "execute_result"
    }
   ],
   "source": [
    "pd.value_counts(y_train_new)"
   ]
  },
  {
   "cell_type": "code",
   "execution_count": 13,
   "metadata": {},
   "outputs": [],
   "source": [
    "### CREATE FAKE TEST DATA ###\n",
    "\n",
    "X_test_new, y_test_new = Generator(X_train, y_train, rep=100, concat=False, seed=42)"
   ]
  },
  {
   "cell_type": "code",
   "execution_count": 14,
   "metadata": {},
   "outputs": [
    {
     "data": {
      "text/plain": [
       "1    100\n",
       "0    100\n",
       "dtype: int64"
      ]
     },
     "execution_count": 14,
     "metadata": {},
     "output_type": "execute_result"
    }
   ],
   "source": [
    "pd.value_counts(y_test_new)"
   ]
  },
  {
   "cell_type": "code",
   "execution_count": 15,
   "metadata": {},
   "outputs": [],
   "source": [
    "### UTILITY FUNCTIONS ###\n",
    "\n",
    "def set_seed(seed):\n",
    "    \n",
    "    tf.random.set_seed(seed)\n",
    "    os.environ['PYTHONHASHSEED'] = str(seed)\n",
    "    np.random.seed(seed)\n",
    "    random.seed(seed)\n",
    "\n",
    "\n",
    "### NN architecture ###\n",
    "def NN():\n",
    "    \n",
    "    set_seed(33)\n",
    "    \n",
    "    nn = Sequential([\n",
    "              Dense(512, activation='relu', input_shape=(len(tfidf.vocabulary_),)),\n",
    "              Dropout(0.2),\n",
    "              Dense(1, activation='sigmoid')])\n",
    "    \n",
    "    nn.compile(loss='binary_crossentropy', optimizer='adam')\n",
    "    \n",
    "    return nn\n",
    "\n",
    "\n",
    "### PERFORMANCE REPORT ###\n",
    "def report_performances(model, y_test, x_test):\n",
    "    \n",
    "    x_test = tfidf.transform(x_test).toarray()\n",
    "    \n",
    "    if isinstance(model, tf.keras.Model): \n",
    "        auc = roc_auc_score(y_test, model.predict(x_test).ravel())\n",
    "        print('AUC:', auc)\n",
    "        precision = precision_score(y_test, (model.predict(x_test)>0.5).astype(int), average='weighted')\n",
    "        print('PRECISION:', precision)\n",
    "        recall = recall_score(y_test, (model.predict(x_test)>0.5).astype(int), average='weighted')\n",
    "        print('RECALL:', recall)\n",
    "        f1 = f1_score(y_test, (model.predict(x_test)>0.5).astype(int), average='weighted')\n",
    "        print('F1:', f1)\n",
    "    else: \n",
    "        auc = roc_auc_score(y_test, model.predict_proba(x_test)[:,1])\n",
    "        print('AUC:', auc)\n",
    "        precision = precision_score(y_test, model.predict(x_test), average='weighted')\n",
    "        print('PRECISION:', precision)\n",
    "        recall = recall_score(y_test, model.predict(x_test), average='weighted')\n",
    "        print('RECALL:', recall)\n",
    "        f1 = f1_score(y_test, model.predict(x_test), average='weighted')\n",
    "        print('F1', f1)"
   ]
  },
  {
   "cell_type": "markdown",
   "metadata": {},
   "source": [
    "# FIT ON ORIGINAL DATA"
   ]
  },
  {
   "cell_type": "code",
   "execution_count": 16,
   "metadata": {},
   "outputs": [
    {
     "name": "stdout",
     "output_type": "stream",
     "text": [
      "Epoch 1/5\n",
      "33/33 - 0s - loss: 0.4671\n",
      "Epoch 2/5\n",
      "33/33 - 0s - loss: 0.2898\n",
      "Epoch 3/5\n",
      "33/33 - 0s - loss: 0.2144\n",
      "Epoch 4/5\n",
      "33/33 - 0s - loss: 0.1418\n",
      "Epoch 5/5\n",
      "33/33 - 0s - loss: 0.0788\n"
     ]
    },
    {
     "data": {
      "text/plain": [
       "<tensorflow.python.keras.callbacks.History at 0x12ff51086d8>"
      ]
     },
     "execution_count": 16,
     "metadata": {},
     "output_type": "execute_result"
    }
   ],
   "source": [
    "nn = NN()\n",
    "nn.fit(tfidf.transform(X_train).toarray(), y_train, batch_size=32, epochs=5, verbose=2)"
   ]
  },
  {
   "cell_type": "code",
   "execution_count": 17,
   "metadata": {},
   "outputs": [
    {
     "name": "stdout",
     "output_type": "stream",
     "text": [
      "AUC: 0.9108527131782946\n",
      "PRECISION: 0.8970674011204595\n",
      "RECALL: 0.8996138996138996\n",
      "F1: 0.8866248158283557\n"
     ]
    }
   ],
   "source": [
    "report_performances(nn, y_test, X_test)"
   ]
  },
  {
   "cell_type": "code",
   "execution_count": 18,
   "metadata": {},
   "outputs": [
    {
     "name": "stdout",
     "output_type": "stream",
     "text": [
      "AUC: 0.9984999999999999\n",
      "PRECISION: 0.9672897196261683\n",
      "RECALL: 0.965\n",
      "F1: 0.9649570724137068\n"
     ]
    }
   ],
   "source": [
    "report_performances(nn, y_test_new, X_test_new)"
   ]
  },
  {
   "cell_type": "code",
   "execution_count": 19,
   "metadata": {},
   "outputs": [
    {
     "data": {
      "text/plain": [
       "LogisticRegression(random_state=42, solver='liblinear')"
      ]
     },
     "execution_count": 19,
     "metadata": {},
     "output_type": "execute_result"
    }
   ],
   "source": [
    "logistic = LogisticRegression(solver='liblinear', random_state=42)\n",
    "logistic.fit(tfidf.transform(X_train), y_train)"
   ]
  },
  {
   "cell_type": "code",
   "execution_count": 20,
   "metadata": {},
   "outputs": [
    {
     "name": "stdout",
     "output_type": "stream",
     "text": [
      "AUC: 0.9251722652885442\n",
      "PRECISION: 0.8808604522890237\n",
      "RECALL: 0.861003861003861\n",
      "F1 0.8163112563112562\n"
     ]
    }
   ],
   "source": [
    "report_performances(logistic, y_test, X_test)"
   ]
  },
  {
   "cell_type": "code",
   "execution_count": 21,
   "metadata": {},
   "outputs": [
    {
     "name": "stdout",
     "output_type": "stream",
     "text": [
      "AUC: 0.993\n",
      "PRECISION: 0.7590673575129533\n",
      "RECALL: 0.535\n",
      "F1 0.40671748907530864\n"
     ]
    }
   ],
   "source": [
    "report_performances(logistic, y_test_new, X_test_new)"
   ]
  },
  {
   "cell_type": "code",
   "execution_count": 22,
   "metadata": {},
   "outputs": [
    {
     "data": {
      "text/plain": [
       "RandomForestClassifier(random_state=42)"
      ]
     },
     "execution_count": 22,
     "metadata": {},
     "output_type": "execute_result"
    }
   ],
   "source": [
    "rf = RandomForestClassifier(n_estimators=100, random_state=42)\n",
    "rf.fit(tfidf.transform(X_train), y_train)"
   ]
  },
  {
   "cell_type": "code",
   "execution_count": 23,
   "metadata": {},
   "outputs": [
    {
     "name": "stdout",
     "output_type": "stream",
     "text": [
      "AUC: 0.875484496124031\n",
      "PRECISION: 0.8860215901032228\n",
      "RECALL: 0.8803088803088803\n",
      "F1 0.8536258274812903\n"
     ]
    }
   ],
   "source": [
    "report_performances(rf, y_test, X_test)"
   ]
  },
  {
   "cell_type": "code",
   "execution_count": 24,
   "metadata": {},
   "outputs": [
    {
     "name": "stdout",
     "output_type": "stream",
     "text": [
      "AUC: 0.9320499999999999\n",
      "PRECISION: 0.7491694352159469\n",
      "RECALL: 0.62\n",
      "F1 0.5634191176470589\n"
     ]
    }
   ],
   "source": [
    "report_performances(rf, y_test_new, X_test_new)"
   ]
  },
  {
   "cell_type": "markdown",
   "metadata": {},
   "source": [
    "# FIT ON ORIGINAL + GENERATED DATA"
   ]
  },
  {
   "cell_type": "code",
   "execution_count": 25,
   "metadata": {},
   "outputs": [
    {
     "name": "stdout",
     "output_type": "stream",
     "text": [
      "Epoch 1/5\n",
      "52/52 - 0s - loss: 0.5071\n",
      "Epoch 2/5\n",
      "52/52 - 0s - loss: 0.1977\n",
      "Epoch 3/5\n",
      "52/52 - 0s - loss: 0.0610\n",
      "Epoch 4/5\n",
      "52/52 - 0s - loss: 0.0263\n",
      "Epoch 5/5\n",
      "52/52 - 0s - loss: 0.0143\n"
     ]
    },
    {
     "data": {
      "text/plain": [
       "<tensorflow.python.keras.callbacks.History at 0x12ff5460898>"
      ]
     },
     "execution_count": 25,
     "metadata": {},
     "output_type": "execute_result"
    }
   ],
   "source": [
    "nn = NN()\n",
    "nn.fit(tfidf.transform(X_train_new).toarray(), y_train_new, batch_size=32, epochs=5, verbose=2)"
   ]
  },
  {
   "cell_type": "code",
   "execution_count": 26,
   "metadata": {},
   "outputs": [
    {
     "name": "stdout",
     "output_type": "stream",
     "text": [
      "AUC: 0.9170973298880276\n",
      "PRECISION: 0.9052331452331452\n",
      "RECALL: 0.9073359073359073\n",
      "F1: 0.8969248239836475\n"
     ]
    }
   ],
   "source": [
    "report_performances(nn, y_test, X_test)"
   ]
  },
  {
   "cell_type": "code",
   "execution_count": 27,
   "metadata": {},
   "outputs": [
    {
     "name": "stdout",
     "output_type": "stream",
     "text": [
      "AUC: 0.9970000000000001\n",
      "PRECISION: 0.9761904761904762\n",
      "RECALL: 0.975\n",
      "F1: 0.9749843652282677\n"
     ]
    }
   ],
   "source": [
    "report_performances(nn, y_test_new, X_test_new)"
   ]
  },
  {
   "cell_type": "code",
   "execution_count": 28,
   "metadata": {},
   "outputs": [
    {
     "data": {
      "text/plain": [
       "LogisticRegression(random_state=42, solver='liblinear')"
      ]
     },
     "execution_count": 28,
     "metadata": {},
     "output_type": "execute_result"
    }
   ],
   "source": [
    "logistic = LogisticRegression(solver='liblinear', random_state=42)\n",
    "logistic.fit(tfidf.transform(X_train_new), y_train_new)"
   ]
  },
  {
   "cell_type": "code",
   "execution_count": 29,
   "metadata": {},
   "outputs": [
    {
     "name": "stdout",
     "output_type": "stream",
     "text": [
      "AUC: 0.9194659776055125\n",
      "PRECISION: 0.8971869292724908\n",
      "RECALL: 0.8918918918918919\n",
      "F1 0.8715370392226287\n"
     ]
    }
   ],
   "source": [
    "report_performances(logistic, y_test, X_test)"
   ]
  },
  {
   "cell_type": "code",
   "execution_count": 30,
   "metadata": {},
   "outputs": [
    {
     "name": "stdout",
     "output_type": "stream",
     "text": [
      "AUC: 0.9936\n",
      "PRECISION: 0.8875968992248062\n",
      "RECALL: 0.855\n",
      "F1 0.8518859010699967\n"
     ]
    }
   ],
   "source": [
    "report_performances(logistic, y_test_new, X_test_new)"
   ]
  },
  {
   "cell_type": "code",
   "execution_count": 31,
   "metadata": {},
   "outputs": [
    {
     "data": {
      "text/plain": [
       "RandomForestClassifier(random_state=42)"
      ]
     },
     "execution_count": 31,
     "metadata": {},
     "output_type": "execute_result"
    }
   ],
   "source": [
    "rf = RandomForestClassifier(n_estimators=100, random_state=42)\n",
    "rf.fit(tfidf.transform(X_train_new), y_train_new)"
   ]
  },
  {
   "cell_type": "code",
   "execution_count": 32,
   "metadata": {},
   "outputs": [
    {
     "name": "stdout",
     "output_type": "stream",
     "text": [
      "AUC: 0.8640180878552971\n",
      "PRECISION: 0.8848232848232849\n",
      "RECALL: 0.8918918918918919\n",
      "F1 0.8797456279809222\n"
     ]
    }
   ],
   "source": [
    "report_performances(rf, y_test, X_test)"
   ]
  },
  {
   "cell_type": "code",
   "execution_count": 33,
   "metadata": {},
   "outputs": [
    {
     "name": "stdout",
     "output_type": "stream",
     "text": [
      "AUC: 0.9501\n",
      "PRECISION: 0.8467843631778058\n",
      "RECALL: 0.83\n",
      "F1 0.8279178054458953\n"
     ]
    }
   ],
   "source": [
    "report_performances(rf, y_test_new, X_test_new)"
   ]
  }
 ],
 "metadata": {
  "kernelspec": {
   "display_name": "Python 3",
   "language": "python",
   "name": "python3"
  },
  "language_info": {
   "codemirror_mode": {
    "name": "ipython",
    "version": 3
   },
   "file_extension": ".py",
   "mimetype": "text/x-python",
   "name": "python",
   "nbconvert_exporter": "python",
   "pygments_lexer": "ipython3",
   "version": "3.6.6"
  }
 },
 "nbformat": 4,
 "nbformat_minor": 2
}
